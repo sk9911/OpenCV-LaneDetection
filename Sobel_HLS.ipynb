{
 "cells": [
  {
   "cell_type": "code",
   "execution_count": 1,
   "metadata": {},
   "outputs": [],
   "source": [
    "import numpy as np\n",
    "import matplotlib.image as mpimg\n",
    "import matplotlib.pyplot as plt\n",
    "import cv2\n",
    "\n",
    "%matplotlib qt"
   ]
  },
  {
   "cell_type": "code",
   "execution_count": 2,
   "metadata": {},
   "outputs": [],
   "source": [
    "img = mpimg.imread('./CarND-Advanced-Lane-Lines/test_images/test6.jpg')"
   ]
  },
  {
   "cell_type": "code",
   "execution_count": 3,
   "metadata": {},
   "outputs": [],
   "source": [
    "def sobx_hls(img, kernel_size = 9, sob_thresh =(0,255), sat_thresh = (0,255)):\n",
    "    hls = cv2.cvtColor(img, cv2.COLOR_RGB2HLS)\n",
    "    gray = cv2.cvtColor(img, cv2.COLOR_RGB2GRAY)\n",
    "    s_channel = hls[:,:,2]\n",
    "    \n",
    "    sobelx = cv2.Sobel(gray, cv2.CV_64F, 1, 0, ksize = kernel_size)\n",
    "    scaled_abs_sobel = np.uint8(np.absolute(sobelx)*(255/np.max(np.absolute(sobelx))))\n",
    "    \n",
    "    sobel_bin = np.zeros_like(scaled_abs_sobel)\n",
    "    sobel_bin[(scaled_abs_sobel>=sob_thresh[0]) & (scaled_abs_sobel < sob_thresh[1])] = 1\n",
    "    \n",
    "    sat_bin = np.zeros_like(s_channel)\n",
    "    sat_bin[(s_channel>sat_thresh[0]) & (s_channel<=sat_thresh[1])] =  1\n",
    "    \n",
    "    color_bin = np.dstack((sobel_bin,  np.zeros_like(sat_bin), sat_bin))*255\n",
    "    comb_bin = np.zeros_like(sobel_bin)\n",
    "    comb_bin[(sobel_bin == 1) | (sat_bin == 1)] = 1\n",
    "    \n",
    "    return color_bin, comb_bin"
   ]
  },
  {
   "cell_type": "code",
   "execution_count": 4,
   "metadata": {},
   "outputs": [
    {
     "data": {
      "text/plain": [
       "<matplotlib.image.AxesImage at 0x1a73fc70f40>"
      ]
     },
     "execution_count": 4,
     "metadata": {},
     "output_type": "execute_result"
    }
   ],
   "source": [
    "a,b = sobx_hls(img, sob_thresh=(20, 100), sat_thresh=(90, 255))\n",
    "\n",
    "fig, (ax1, ax2) = plt.subplots(1, 2, figsize=(20,10))\n",
    "\n",
    "ax1.set_title('SobelX + S Channel Colored')\n",
    "ax1.imshow(a)\n",
    "\n",
    "ax2.set_title('Comb SobelX + S Channel')\n",
    "ax2.imshow(b, cmap='gray')"
   ]
  },
  {
   "cell_type": "code",
   "execution_count": null,
   "metadata": {},
   "outputs": [],
   "source": []
  }
 ],
 "metadata": {
  "kernelspec": {
   "display_name": "Python 3",
   "language": "python",
   "name": "python3"
  },
  "language_info": {
   "codemirror_mode": {
    "name": "ipython",
    "version": 3
   },
   "file_extension": ".py",
   "mimetype": "text/x-python",
   "name": "python",
   "nbconvert_exporter": "python",
   "pygments_lexer": "ipython3",
   "version": "3.8.5"
  }
 },
 "nbformat": 4,
 "nbformat_minor": 4
}
