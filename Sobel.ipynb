{
 "cells": [
  {
   "cell_type": "code",
   "execution_count": 1,
   "metadata": {},
   "outputs": [
    {
     "name": "stderr",
     "output_type": "stream",
     "text": [
      "fatal: destination path 'CarND-Advanced-Lane-Lines' already exists and is not an empty directory.\n"
     ]
    }
   ],
   "source": [
    "!git clone https://github.com/udacity/CarND-Advanced-Lane-Lines"
   ]
  },
  {
   "cell_type": "code",
   "execution_count": 2,
   "metadata": {},
   "outputs": [],
   "source": [
    "import cv2\n",
    "import matplotlib.pyplot as plt\n",
    "import matplotlib.image as mpimg\n",
    "import numpy as np\n",
    "\n",
    "%matplotlib qt"
   ]
  },
  {
   "cell_type": "code",
   "execution_count": 3,
   "metadata": {},
   "outputs": [],
   "source": [
    "img = mpimg.imread('./signs_vehicles_xygrad.png')"
   ]
  },
  {
   "cell_type": "code",
   "execution_count": 4,
   "metadata": {},
   "outputs": [],
   "source": [
    "def abs_sob_thresh(img, thresh_min, thresh_max, orient='x', kernel_size = 3):\n",
    "    gray = cv2.cvtColor(img, cv2.COLOR_RGB2GRAY)\n",
    "    if orient == 'x':\n",
    "        sobel = cv2.Sobel(gray, cv2.CV_64F, 1, 0, ksize=kernel_size)\n",
    "    elif orient == 'y':\n",
    "        sobel = cv2.Sobel(gray, cv2.CV_64F, 0, 1, ksize=kernel_size)\n",
    "    abs_sobel = np.absolute(sobel)\n",
    "    scaled_abs_sobel = np.uint8(255*abs_sobel/ np.max(abs_sobel))\n",
    "    \n",
    "    sxbinary = sxbinary = np.zeros_like(scaled_abs_sobel)\n",
    "    sxbinary[(scaled_abs_sobel >= thresh_min) & (scaled_abs_sobel <= thresh_max)] = 1\n",
    "    \n",
    "    return sxbinary"
   ]
  },
  {
   "cell_type": "code",
   "execution_count": 89,
   "metadata": {},
   "outputs": [
    {
     "data": {
      "text/plain": [
       "<matplotlib.image.AxesImage at 0x1baa7023280>"
      ]
     },
     "execution_count": 89,
     "metadata": {},
     "output_type": "execute_result"
    }
   ],
   "source": [
    "orient = 'x'\n",
    "grad_bin = abs_sob_thresh(img, 20, 100, orient, 9)\n",
    "grad_biny = abs_sob_thresh(img, 40, 100, 'y', 9)\n",
    "\n",
    "fig, (ax1, ax2, ax3) = plt.subplots(1, 3, figsize=(20,10))\n",
    "\n",
    "\n",
    "ax1.set_title(\"Image\")\n",
    "ax1.imshow(img, cmap='gray')\n",
    "\n",
    "ax2.set_title(\"Sobel \" + orient)\n",
    "ax2.imshow(grad_bin, cmap='gray')\n",
    "\n",
    "ax3.set_title(\"Sobel \" + 'y')\n",
    "ax3.imshow(grad_biny, cmap='gray')"
   ]
  },
  {
   "cell_type": "code",
   "execution_count": 70,
   "metadata": {},
   "outputs": [],
   "source": [
    "def mag_thresh(img, thresh_min, thresh_max, kernel_size = 3):\n",
    "    \n",
    "    gray = cv2.cvtColor(img, cv2.COLOR_RGB2GRAY)\n",
    "    \n",
    "    sobelx = cv2.Sobel(gray, cv2.CV_64F, 1, 0, ksize = kernel_size)\n",
    "    sobely = cv2.Sobel(gray, cv2.CV_64F, 0, 1, ksize = kernel_size)\n",
    "    \n",
    "    abs_sobel = np.sqrt(np.square(sobelx) + np.square(sobely))\n",
    "    \n",
    "    scaled_abs_sobel = np.uint8(255*abs_sobel/ np.max(abs_sobel))\n",
    "    \n",
    "    sxbinary = sxbinary = np.zeros_like(scaled_abs_sobel)\n",
    "    sxbinary[(scaled_abs_sobel >= thresh_min) & (scaled_abs_sobel <= thresh_max)] = 1\n",
    "    \n",
    "    return sxbinary"
   ]
  },
  {
   "cell_type": "code",
   "execution_count": 102,
   "metadata": {},
   "outputs": [
    {
     "data": {
      "text/plain": [
       "<matplotlib.image.AxesImage at 0x1baa87c2250>"
      ]
     },
     "execution_count": 102,
     "metadata": {},
     "output_type": "execute_result"
    }
   ],
   "source": [
    "mag_grad = mag_thresh(img, 45, 100, 9)\n",
    "\n",
    "fig, (ax1, ax2) = plt.subplots(1, 2, figsize=(20,10))\n",
    "\n",
    "\n",
    "ax1.set_title(\"Image\")\n",
    "ax1.imshow(img, cmap='gray')\n",
    "\n",
    "ax2.set_title(\"Mag Sobel\")\n",
    "ax2.imshow(mag_grad, cmap='gray')\n",
    "\n",
    "# ax3.set_title(\"Sobel \" + 'y')\n",
    "# ax3.imshow(grad_biny, cmap='gray')"
   ]
  },
  {
   "cell_type": "code",
   "execution_count": 8,
   "metadata": {},
   "outputs": [],
   "source": [
    "def dir_thresh(img, thresh_min=0, thresh_max=np.pi/2, kernel_size = 3):\n",
    "    gray = cv2.cvtColor(img, cv2.COLOR_RGB2GRAY)\n",
    "    \n",
    "    sobelx = cv2.Sobel(gray, cv2.CV_64F, 1, 0, ksize = kernel_size)\n",
    "    sobely = cv2.Sobel(gray, cv2.CV_64F, 0, 1, ksize = kernel_size)\n",
    "    \n",
    "    arctan = np.arctan2(np.absolute(sobely), np.absolute(sobelx))\n",
    "    \n",
    "    binary_output =  np.zeros_like(arctan)\n",
    "    binary_output[(arctan >= thresh_min) & (arctan <= thresh_max)] = 1    \n",
    "    return binary_output"
   ]
  },
  {
   "cell_type": "code",
   "execution_count": 9,
   "metadata": {},
   "outputs": [
    {
     "data": {
      "text/plain": [
       "<matplotlib.image.AxesImage at 0x1ba8f0e98b0>"
      ]
     },
     "execution_count": 9,
     "metadata": {},
     "output_type": "execute_result"
    }
   ],
   "source": [
    "mag_grad = dir_thresh(img, 0.7, 1.3, 15)\n",
    "\n",
    "fig, (ax1, ax2) = plt.subplots(1, 2, figsize=(20,10))\n",
    "\n",
    "\n",
    "ax1.set_title(\"Image\")\n",
    "ax1.imshow(img, cmap='gray')\n",
    "\n",
    "ax2.set_title(\"Dir Sobel\")\n",
    "ax2.imshow(mag_grad, cmap='gray')\n",
    "\n",
    "# ax3.set_title(\"Sobel \" + 'y')\n",
    "# ax3.imshow(grad_biny, cmap='gray')"
   ]
  },
  {
   "cell_type": "code",
   "execution_count": 103,
   "metadata": {},
   "outputs": [],
   "source": [
    "ksize = 9\n",
    "\n",
    "gradx = abs_sob_thresh(img, orient='x', kernel_size=ksize, thresh_min=30, thresh_max=100)\n",
    "grady = abs_sob_thresh(img, orient='y', kernel_size=ksize, thresh_min=40, thresh_max=100)\n",
    "mag_binary = mag_thresh(img, kernel_size=ksize, thresh_min=45, thresh_max=100)\n",
    "dir_binary = dir_thresh(img, kernel_size=ksize, thresh_min=0.3, thresh_max=1.3)"
   ]
  },
  {
   "cell_type": "code",
   "execution_count": 104,
   "metadata": {},
   "outputs": [],
   "source": [
    "combined = np.zeros_like(dir_binary) \n",
    "combined[((gradx == 1) & (grady == 1)) | ((mag_binary == 1) & (dir_binary == 1))] = 1"
   ]
  },
  {
   "cell_type": "code",
   "execution_count": 105,
   "metadata": {},
   "outputs": [
    {
     "data": {
      "text/plain": [
       "<matplotlib.image.AxesImage at 0x1baa8856f70>"
      ]
     },
     "execution_count": 105,
     "metadata": {},
     "output_type": "execute_result"
    }
   ],
   "source": [
    "plt.imshow(combined, cmap='gray')"
   ]
  },
  {
   "cell_type": "code",
   "execution_count": null,
   "metadata": {},
   "outputs": [],
   "source": []
  }
 ],
 "metadata": {
  "kernelspec": {
   "display_name": "Python 3",
   "language": "python",
   "name": "python3"
  },
  "language_info": {
   "codemirror_mode": {
    "name": "ipython",
    "version": 3
   },
   "file_extension": ".py",
   "mimetype": "text/x-python",
   "name": "python",
   "nbconvert_exporter": "python",
   "pygments_lexer": "ipython3",
   "version": "3.8.5"
  }
 },
 "nbformat": 4,
 "nbformat_minor": 4
}
