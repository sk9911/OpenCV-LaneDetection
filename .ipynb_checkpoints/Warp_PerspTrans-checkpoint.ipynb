{
 "cells": [
  {
   "cell_type": "code",
   "execution_count": 1,
   "metadata": {},
   "outputs": [],
   "source": [
    "import numpy as np\n",
    "import cv2\n",
    "import matplotlib.image as mpimg\n",
    "import matplotlib.pyplot as plt\n",
    "import glob\n",
    "\n",
    "%matplotlib qt"
   ]
  },
  {
   "cell_type": "code",
   "execution_count": 2,
   "metadata": {},
   "outputs": [],
   "source": [
    "def sobx_hls(img, kernel_size = 3, sob_thresh =(0,255), sat_thresh = (0,255), lig_thresh=(0,255), dir_thresh = (0,255)):\n",
    "    hls = cv2.cvtColor(img, cv2.COLOR_RGB2HLS)\n",
    "    gray = cv2.cvtColor(img, cv2.COLOR_RGB2GRAY)\n",
    "    s_channel = hls[:,:,2]\n",
    "    l_channel = hls[:,:,1]    \n",
    "    \n",
    "    sobelx = cv2.Sobel(gray, cv2.CV_64F, 1, 0, ksize = kernel_size)    \n",
    "    sobely = cv2.Sobel(gray, cv2.CV_64F, 0, 1, ksize = kernel_size)\n",
    "    \n",
    "    abs_sobel_x = np.absolute(sobelx)\n",
    "    abs_sobel_y = np.absolute(sobely)\n",
    "    \n",
    "    direction = np.arctan2(abs_sobel_y,abs_sobel_x)\n",
    "    direction = np.absolute(direction)\n",
    "    \n",
    "    dir_bin = np.zeros_like(direction)\n",
    "    dir_bin[(direction >= dir_thresh[0]) & (direction <= dir_thresh[1])] = 1\n",
    "    \n",
    "    scaled_abs_sobel = np.uint8(255*abs_sobel_x/np.max(abs_sobel_x))\n",
    "    \n",
    "    sobel_bin = np.zeros_like(scaled_abs_sobel)\n",
    "    sobel_bin[(scaled_abs_sobel>=sob_thresh[0]) & (scaled_abs_sobel < sob_thresh[1])] = 1\n",
    "    \n",
    "    sat_bin = np.zeros_like(s_channel)\n",
    "    sat_bin[(s_channel>sat_thresh[0]) & (s_channel<=sat_thresh[1])] =  1\n",
    "    \n",
    "    lig_bin = np.zeros_like(l_channel)\n",
    "    lig_bin[(l_channel>lig_thresh[0]) & (l_channel<=lig_thresh[1])] =  1\n",
    "    \n",
    "    color_bin = np.dstack((sobel_bin,  np.zeros_like(sat_bin), sat_bin))*255\n",
    "    comb_bin = np.zeros_like(sobel_bin)\n",
    "    comb_bin[(((sobel_bin == 1) & (dir_bin == 1)) | (sat_bin == 1)) & (lig_bin == 1)] = 1\n",
    "    \n",
    "    return color_bin, comb_bin"
   ]
  },
  {
   "cell_type": "code",
   "execution_count": 3,
   "metadata": {},
   "outputs": [],
   "source": [
    "def cam_calib_mat():\n",
    "    images = glob.glob('.\\CarND-Advanced-Lane-Lines\\camera_cal\\calibration*.jpg')\n",
    "    \n",
    "    nx = 9\n",
    "    ny = 6\n",
    "\n",
    "    objpoints = []\n",
    "    imgpoints = []\n",
    "\n",
    "    objp = np.zeros([6*9, 3], np.float32)\n",
    "    objp[:,:2] = np.mgrid[0:9, 0:6].T.reshape(-1,2)\n",
    "    \n",
    "    for fname in images:\n",
    "        img = cv2.imread(fname)\n",
    "        gray = cv2.cvtColor(img, cv2.COLOR_BGR2GRAY)\n",
    "        ret, corners = cv2.findChessboardCorners(gray, (nx, ny), None)\n",
    "        if ret == True:\n",
    "            imgpoints.append(corners)\n",
    "            objpoints.append(objp)\n",
    "        \n",
    "    ret, mtx, dist, rvecs, tvecs = cv2.calibrateCamera(objpoints, imgpoints, gray.shape[::-1], None, None)\n",
    "    return mtx, dist"
   ]
  },
  {
   "cell_type": "code",
   "execution_count": 4,
   "metadata": {},
   "outputs": [],
   "source": [
    "mtx, dist = cam_calib_mat()"
   ]
  },
  {
   "cell_type": "code",
   "execution_count": 5,
   "metadata": {},
   "outputs": [],
   "source": [
    "def persp_trans(img):\n",
    "    img_coord = (img.shape[1], img.shape[0])\n",
    "\n",
    "    src_corners = np.float32([(578,460),\n",
    "                  (710,460), \n",
    "                  (260,671), \n",
    "                  (1050,671)])\n",
    "    dst_corners = np.float32([(325,0),\n",
    "                  (925,0),\n",
    "                  (325,700),\n",
    "                  (925,700)])\n",
    "\n",
    "    M_persp = cv2.getPerspectiveTransform(src_corners, dst_corners)\n",
    "    warped = cv2.warpPerspective(img, M_persp, img_coord, flags=cv2.INTER_LINEAR)\n",
    "    return warped"
   ]
  },
  {
   "cell_type": "code",
   "execution_count": 6,
   "metadata": {},
   "outputs": [],
   "source": [
    "img = mpimg.imread('./CarND-Advanced-Lane-Lines/test_images/straight_lines2.jpg')"
   ]
  },
  {
   "cell_type": "code",
   "execution_count": 7,
   "metadata": {},
   "outputs": [],
   "source": [
    "_, thresh = sobx_hls(img, kernel_size = 3, sob_thresh=(24,255), sat_thresh=(100, 255), lig_thresh=(80,255), dir_thresh=(np.pi/6, np.pi/2))"
   ]
  },
  {
   "cell_type": "code",
   "execution_count": 8,
   "metadata": {},
   "outputs": [],
   "source": [
    "img_undist = cv2.undistort(img, mtx, dist)\n",
    "img_top_view = persp_trans(img_undist)\n",
    "\n",
    "thresh_undist = cv2.undistort(thresh, mtx, dist)\n",
    "thresh_top_view = persp_trans(thresh_undist)"
   ]
  },
  {
   "cell_type": "code",
   "execution_count": 9,
   "metadata": {},
   "outputs": [],
   "source": [
    "# fig, ((ax1, ax2), (ax3, ax4)) = plt.subplots(2,2, figsize=(40,10))\n",
    "\n",
    "# ax1.set_title('Undistorted Image')\n",
    "# ax1.imshow(img_undist)\n",
    "\n",
    "# ax2.set_title('Thresh')\n",
    "# ax2.imshow(thresh, cmap='gray')\n",
    "\n",
    "# ax3.set_title('Warped Top View')\n",
    "# ax3.imshow(img_top_view, cmap='gray')\n",
    "\n",
    "# ax4.set_title('Warped Grad Top View')\n",
    "# ax4.imshow(thresh_top_view, cmap='gray')"
   ]
  },
  {
   "cell_type": "code",
   "execution_count": 10,
   "metadata": {},
   "outputs": [],
   "source": [
    "def hist(img):\n",
    "    bottom_half = np.copy(img)\n",
    "    bottom_half[:img.shape[0]//2 , :] = 0\n",
    "    \n",
    "    histogram = np.sum(bottom_half, 0)\n",
    "    \n",
    "    return histogram"
   ]
  },
  {
   "cell_type": "code",
   "execution_count": 11,
   "metadata": {},
   "outputs": [],
   "source": [
    "histogram = hist(thresh_top_view)"
   ]
  },
  {
   "cell_type": "code",
   "execution_count": 12,
   "metadata": {},
   "outputs": [],
   "source": [
    "# fig = plt.Figure(figsize = (10,20))\n",
    "# plt.xlabel('Count')\n",
    "# plt.ylabel('X Coord')\n",
    "# plt.plot(histogram)"
   ]
  },
  {
   "cell_type": "code",
   "execution_count": 13,
   "metadata": {},
   "outputs": [],
   "source": [
    "out_img = np.dstack((thresh_top_view, thresh_top_view, thresh_top_view))*255"
   ]
  },
  {
   "cell_type": "code",
   "execution_count": 14,
   "metadata": {},
   "outputs": [],
   "source": [
    "midpoint = int(histogram.shape[0]//2)\n",
    "leftx_base = np.argmax(histogram[:midpoint])\n",
    "rightx_base = np.argmax(histogram[midpoint:]) + midpoint"
   ]
  },
  {
   "cell_type": "code",
   "execution_count": 15,
   "metadata": {},
   "outputs": [],
   "source": [
    "nwindows = 9\n",
    "margin = 100\n",
    "minpix = 50\n",
    "\n",
    "window_height = int(thresh_top_view.shape[0]//nwindows)\n",
    "nonzero = thresh_top_view.nonzero()\n",
    "nonzeroy = np.array(nonzero[0])\n",
    "nonzerox = np.array(nonzero[1])\n",
    "\n",
    "leftx_current = leftx_base\n",
    "rightx_current = rightx_base\n",
    "\n",
    "left_lane_inds = []\n",
    "right_lane_inds = []"
   ]
  },
  {
   "cell_type": "code",
   "execution_count": 16,
   "metadata": {},
   "outputs": [
    {
     "data": {
      "text/plain": [
       "(array([0, 2, 3], dtype=int64),)"
      ]
     },
     "execution_count": 16,
     "metadata": {},
     "output_type": "execute_result"
    }
   ],
   "source": [
    "np.array([True, False, True, True, False]).nonzero()"
   ]
  },
  {
   "cell_type": "code",
   "execution_count": 17,
   "metadata": {},
   "outputs": [],
   "source": [
    "def find_lane_pixels(thresh_top_view):\n",
    "    out_img = np.dstack((thresh_top_view, thresh_top_view, thresh_top_view))*255\n",
    "    \n",
    "    midpoint = int(histogram.shape[0]//2)\n",
    "    leftx_base = np.argmax(histogram[:midpoint])\n",
    "    rightx_base = np.argmax(histogram[midpoint:]) + midpoint\n",
    "    \n",
    "    nwindows = 20\n",
    "    margin = 85\n",
    "    minpix = 25\n",
    "\n",
    "    window_height = int(thresh_top_view.shape[0]//nwindows)\n",
    "    nonzero = thresh_top_view.nonzero()\n",
    "    nonzeroy = np.array(nonzero[0])\n",
    "    nonzerox = np.array(nonzero[1])\n",
    "\n",
    "    leftx_current = leftx_base\n",
    "    rightx_current = rightx_base\n",
    "\n",
    "    left_lane_inds = []\n",
    "    right_lane_inds = []\n",
    "    \n",
    "    for win in range(nwindows):\n",
    "        win_ylow = thresh_top_view.shape[0] - (win+1)*(window_height)\n",
    "        win_yhigh = thresh_top_view.shape[0] - (win)*(window_height)\n",
    "        \n",
    "        win_xleft_low = leftx_current - margin\n",
    "        win_xleft_high = leftx_current + margin\n",
    "        win_xright_low = rightx_current - margin\n",
    "        win_xright_high = rightx_current + margin\n",
    "        \n",
    "        cv2.rectangle(out_img, (win_xleft_low, win_yhigh), (win_xleft_high, win_ylow), (0,255,0), 2)\n",
    "        cv2.rectangle(out_img, (win_xright_low, win_yhigh), (win_xright_high, win_ylow), (0,255,0), 2)\n",
    "        \n",
    "        left_pix = ((nonzeroy >= win_ylow) & (nonzeroy < win_yhigh) & (nonzerox >= win_xleft_low) &  (nonzerox < win_xleft_high)).nonzero()[0]\n",
    "        right_pix = ((nonzeroy >= win_ylow) & (nonzeroy < win_yhigh) & (nonzerox >= win_xright_low) &  (nonzerox < win_xright_high)).nonzero()[0]\n",
    "        \n",
    "        left_lane_inds.append(left_pix)\n",
    "        right_lane_inds.append(right_pix)\n",
    "        \n",
    "        if len(left_pix) > minpix:\n",
    "            leftx_current = int(np.mean(nonzerox[left_pix]))\n",
    "        if len(right_pix) > minpix:\n",
    "            rightx_current = int(np.mean(nonzerox[right_pix]))\n",
    "            \n",
    "    try:\n",
    "        left_lane_inds = np.concatenate(left_lane_inds)\n",
    "        right_lane_inds = np.concatenate(right_lane_inds)\n",
    "    except ValueError:\n",
    "        pass\n",
    "    \n",
    "    leftx = nonzerox[left_lane_inds]\n",
    "    rightx = nonzerox[right_lane_inds]\n",
    "    lefty = nonzeroy[left_lane_inds]\n",
    "    righty = nonzeroy[right_lane_inds]\n",
    "    \n",
    "    return leftx, lefty, rightx, righty, out_img"
   ]
  },
  {
   "cell_type": "code",
   "execution_count": 48,
   "metadata": {},
   "outputs": [],
   "source": [
    "def fit_polynomial(binary_warped):\n",
    "    # Find our lane pixels first\n",
    "    leftx, lefty, rightx, righty, out_img = find_lane_pixels(binary_warped)\n",
    "\n",
    "    # Fit a second order polynomial to each using `np.polyfit`\n",
    "    left_fit = np.polyfit(lefty, leftx, 2)\n",
    "    right_fit = np.polyfit(righty, rightx, 2)\n",
    "\n",
    "    # Generate x and y values for plotting\n",
    "    ploty = np.linspace(0, binary_warped.shape[0]-1, binary_warped.shape[0] )\n",
    "    try:\n",
    "        left_fitx = left_fit[0]*ploty**2 + left_fit[1]*ploty + left_fit[2]\n",
    "        right_fitx = right_fit[0]*ploty**2 + right_fit[1]*ploty + right_fit[2]\n",
    "    except TypeError:\n",
    "        # Avoids an error if `left` and `right_fit` are still none or incorrect\n",
    "        print('The function failed to fit a line!')\n",
    "        left_fitx = 1*ploty**2 + 1*ploty\n",
    "        right_fitx = 1*ploty**2 + 1*ploty\n",
    "\n",
    "    ## Visualization ##\n",
    "    # Colors in the left and right lane regions\n",
    "    out_img[lefty, leftx] = [255, 0, 0]\n",
    "    out_img[righty, rightx] = [0, 0, 255]\n",
    "\n",
    "    # Plots the left and right polynomials on the lane lines\n",
    "#     plt.plot(left_fitx, ploty, color='yellow')\n",
    "#     plt.plot(right_fitx, ploty, color='yellow')\n",
    "\n",
    "    return out_img, left_fit, right_fit"
   ]
  },
  {
   "cell_type": "code",
   "execution_count": 49,
   "metadata": {},
   "outputs": [],
   "source": [
    "def lane_plot(img, mtx=mtx, dist=dist):\n",
    "    _, thresh = sobx_hls(img, kernel_size = 3, sob_thresh=(24,255), sat_thresh=(150, 255), lig_thresh=(100,255), dir_thresh=(np.pi/6, np.pi/2))\n",
    "    thresh_undist = cv2.undistort(thresh, mtx, dist)\n",
    "    thresh_top_view = persp_trans(thresh_undist)\n",
    "    histogram = hist(thresh_top_view)\n",
    "    ot, lf, rf = fit_polynomial(thresh_top_view)\n",
    "    return (ot, thresh_undist, lf, rf)"
   ]
  },
  {
   "cell_type": "code",
   "execution_count": 58,
   "metadata": {},
   "outputs": [],
   "source": [
    "img = mpimg.imread('./CarND-Advanced-Lane-Lines/test_images/test3.jpg')"
   ]
  },
  {
   "cell_type": "code",
   "execution_count": 59,
   "metadata": {},
   "outputs": [],
   "source": [
    "o, t, left_fit, right_fit = lane_plot(img)\n",
    "\n",
    "# fig, (ax1, ax2, ax3) = plt.subplots(1, 3, figsize=(20,10))\n",
    "\n",
    "# ax1.imshow(img)\n",
    "# ax2.imshow(t, cmap='gray')\n",
    "# ax3.imshow(o)"
   ]
  },
  {
   "cell_type": "code",
   "execution_count": 60,
   "metadata": {},
   "outputs": [
    {
     "data": {
      "text/plain": [
       "array([ 9.68734420e-05, -2.46211424e-01,  4.79439693e+02])"
      ]
     },
     "execution_count": 60,
     "metadata": {},
     "output_type": "execute_result"
    }
   ],
   "source": [
    "left_fit"
   ]
  },
  {
   "cell_type": "code",
   "execution_count": 61,
   "metadata": {},
   "outputs": [],
   "source": [
    "# left_fit = np.array([-2.12143732e-04,  3.70413904e-01,  2.35660866e+02])\n",
    "# right_fit = np.array([-1.21365014e-04,  3.01922571e-01,  8.17120674e+02])"
   ]
  },
  {
   "cell_type": "code",
   "execution_count": 62,
   "metadata": {},
   "outputs": [],
   "source": [
    "def fit_poly(img_shape, leftx, lefty, rightx, righty):\n",
    "     ### TO-DO: Fit a second order polynomial to each with np.polyfit() ###\n",
    "    left_fit = np.polyfit(lefty, leftx, 2)\n",
    "    right_fit = np.polyfit(righty, rightx, 2)\n",
    "    # Generate x and y values for plotting\n",
    "    ploty = np.linspace(0, img_shape[0]-1, img_shape[0])\n",
    "    ### TO-DO: Calc both polynomials using ploty, left_fit and right_fit ###\n",
    "    left_fitx = left_fit[0]*ploty**2 + left_fit[1]*ploty + left_fit[2]\n",
    "    right_fitx = right_fit[0]*ploty**2 + right_fit[1]*ploty + right_fit[2]\n",
    "    \n",
    "    return left_fitx, right_fitx, ploty"
   ]
  },
  {
   "cell_type": "code",
   "execution_count": 63,
   "metadata": {},
   "outputs": [],
   "source": [
    "def search_around_poly(thresh_top_view):\n",
    "    margin = 90\n",
    "\n",
    "    nonzero = thresh_top_view.nonzero()\n",
    "    nonzeroy = np.array(nonzero[0])\n",
    "    nonzerox = np.array(nonzero[1])\n",
    "    \n",
    "    left_lane_inds = ((nonzerox > (left_fit[0]*(nonzeroy**2) + left_fit[1]*nonzeroy + \n",
    "                    left_fit[2] - margin)) & (nonzerox < (left_fit[0]*(nonzeroy**2) + \n",
    "                    left_fit[1]*nonzeroy + left_fit[2] + margin)))\n",
    "    right_lane_inds = ((nonzerox > (right_fit[0]*(nonzeroy**2) + right_fit[1]*nonzeroy + \n",
    "                    right_fit[2] - margin)) & (nonzerox < (right_fit[0]*(nonzeroy**2) + \n",
    "                    right_fit[1]*nonzeroy + right_fit[2] + margin)))\n",
    "    \n",
    "    leftx = nonzerox[left_lane_inds]\n",
    "    lefty = nonzeroy[left_lane_inds] \n",
    "    rightx = nonzerox[right_lane_inds]\n",
    "    righty = nonzeroy[right_lane_inds]\n",
    "\n",
    "    left_fitx, right_fitx, ploty = fit_poly(thresh_top_view.shape, leftx, lefty, rightx, righty)\n",
    "    \n",
    "    out_img = np.dstack((thresh_top_view, thresh_top_view, thresh_top_view))*255\n",
    "    window_img = np.zeros_like(out_img)\n",
    "    \n",
    "    out_img[nonzeroy[left_lane_inds], nonzerox[left_lane_inds]] = [255, 0, 0]\n",
    "    out_img[nonzeroy[right_lane_inds], nonzerox[right_lane_inds]] = [0, 0, 255]\n",
    "\n",
    "    left_line_window1 = np.array([np.transpose(np.vstack([left_fitx-margin, ploty]))])\n",
    "    left_line_window2 = np.array([np.flipud(np.transpose(np.vstack([left_fitx+margin, ploty])))])\n",
    "    left_line_pts = np.hstack((left_line_window1, left_line_window2))\n",
    "    right_line_window1 = np.array([np.transpose(np.vstack([right_fitx-margin, ploty]))])\n",
    "    right_line_window2 = np.array([np.flipud(np.transpose(np.vstack([right_fitx+margin, ploty])))])\n",
    "    right_line_pts = np.hstack((right_line_window1, right_line_window2))\n",
    "\n",
    "    cv2.fillPoly(window_img, np.int_([left_line_pts]), (0,255, 0))\n",
    "    cv2.fillPoly(window_img, np.int_([right_line_pts]), (0,255, 0))\n",
    "    result = cv2.addWeighted(out_img, 1, window_img, 0.3, 0)\n",
    "    \n",
    "    plt.plot(left_fitx, ploty, color='yellow')\n",
    "    plt.plot(right_fitx, ploty, color='yellow')\n",
    "    ## End visualization steps ##\n",
    "    \n",
    "    return result"
   ]
  },
  {
   "cell_type": "code",
   "execution_count": 64,
   "metadata": {},
   "outputs": [],
   "source": [
    "def l_plot(img, mtx=mtx, dist=dist):\n",
    "    _, thresh = sobx_hls(img, kernel_size = 3, sob_thresh=(24,255), sat_thresh=(150, 255), lig_thresh=(100,255), dir_thresh=(np.pi/6, np.pi/2))\n",
    "    thresh_undist = cv2.undistort(thresh, mtx, dist)\n",
    "    thresh_top_view = persp_trans(thresh_undist)\n",
    "    histogram = hist(thresh_top_view)\n",
    "    ot = search_around_poly(thresh_top_view)\n",
    "    return (ot, thresh_undist)"
   ]
  },
  {
   "cell_type": "code",
   "execution_count": 65,
   "metadata": {},
   "outputs": [
    {
     "data": {
      "text/plain": [
       "<matplotlib.image.AxesImage at 0x19d346e2fd0>"
      ]
     },
     "execution_count": 65,
     "metadata": {},
     "output_type": "execute_result"
    }
   ],
   "source": [
    "lan_d, tu = l_plot(img)\n",
    "\n",
    "fig, (ax1, ax2, ax3) = plt.subplots(1, 3, figsize=(20,10))\n",
    "\n",
    "ax1.imshow(img)\n",
    "ax2.imshow(tu, cmap='gray')\n",
    "ax3.imshow(lan_d)"
   ]
  },
  {
   "cell_type": "code",
   "execution_count": null,
   "metadata": {},
   "outputs": [],
   "source": []
  }
 ],
 "metadata": {
  "kernelspec": {
   "display_name": "Python 3",
   "language": "python",
   "name": "python3"
  },
  "language_info": {
   "codemirror_mode": {
    "name": "ipython",
    "version": 3
   },
   "file_extension": ".py",
   "mimetype": "text/x-python",
   "name": "python",
   "nbconvert_exporter": "python",
   "pygments_lexer": "ipython3",
   "version": "3.8.5"
  }
 },
 "nbformat": 4,
 "nbformat_minor": 4
}
