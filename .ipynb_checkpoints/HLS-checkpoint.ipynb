{
 "cells": [
  {
   "cell_type": "code",
   "execution_count": 2,
   "metadata": {},
   "outputs": [],
   "source": [
    "import cv2\n",
    "import numpy as np\n",
    "import matplotlib.pyplot as plt\n",
    "import matplotlib.image as mpimg\n",
    "\n",
    "%matplotlib qt"
   ]
  },
  {
   "cell_type": "code",
   "execution_count": 3,
   "metadata": {},
   "outputs": [],
   "source": [
    "img = mpimg.imread('./CarND-Advanced-Lane-Lines/test_images/test6.jpg')"
   ]
  },
  {
   "cell_type": "code",
   "execution_count": 4,
   "metadata": {},
   "outputs": [
    {
     "data": {
      "text/plain": [
       "<matplotlib.image.AxesImage at 0x18fd57fde50>"
      ]
     },
     "execution_count": 4,
     "metadata": {},
     "output_type": "execute_result"
    }
   ],
   "source": [
    "gray = cv2.cvtColor(img, cv2.COLOR_RGB2GRAY)\n",
    "\n",
    "fig, (ax1, ax2) = plt.subplots(1, 2, figsize=(20,10))\n",
    "\n",
    "ax1.set_title('Image')\n",
    "ax1.imshow(img, cmap='gray')\n",
    "\n",
    "ax2.set_title('Gray')\n",
    "ax2.imshow(gray, cmap='gray')"
   ]
  },
  {
   "cell_type": "code",
   "execution_count": 5,
   "metadata": {},
   "outputs": [
    {
     "data": {
      "text/plain": [
       "<matplotlib.image.AxesImage at 0x18fd587eb50>"
      ]
     },
     "execution_count": 5,
     "metadata": {},
     "output_type": "execute_result"
    }
   ],
   "source": [
    "thresh = (180, 255)\n",
    "\n",
    "gray_bin = np.zeros_like(gray)\n",
    "gray_bin[(gray>thresh[0]) & (gray<thresh[1])] =  1\n",
    "\n",
    "fig, (ax1, ax2) = plt.subplots(1, 2, figsize=(20,10))\n",
    "\n",
    "ax1.set_title('Image')\n",
    "ax1.imshow(img, cmap='gray')\n",
    "\n",
    "ax2.set_title('Gray Bin')\n",
    "ax2.imshow(gray_bin, cmap='gray')"
   ]
  },
  {
   "cell_type": "code",
   "execution_count": 6,
   "metadata": {},
   "outputs": [],
   "source": [
    "R = img[:,:,0]\n",
    "G = img[:,:,1]\n",
    "B = img[:,:,2]"
   ]
  },
  {
   "cell_type": "code",
   "execution_count": 7,
   "metadata": {},
   "outputs": [
    {
     "data": {
      "text/plain": [
       "<matplotlib.image.AxesImage at 0x18fd5953e20>"
      ]
     },
     "execution_count": 7,
     "metadata": {},
     "output_type": "execute_result"
    }
   ],
   "source": [
    "fig, ((ax1, ax2), (ax3, ax4)) = plt.subplots(2, 2, figsize=(20,10))\n",
    "\n",
    "ax1.set_title('Image')\n",
    "ax1.imshow(img, cmap='gray')\n",
    "\n",
    "ax2.set_title('Red')\n",
    "ax2.imshow(R, cmap='gray')\n",
    "\n",
    "ax3.set_title('Green')\n",
    "ax3.imshow(G, cmap='gray')\n",
    "\n",
    "ax4.set_title('Blue')\n",
    "ax4.imshow(B, cmap='gray')"
   ]
  },
  {
   "cell_type": "code",
   "execution_count": 8,
   "metadata": {},
   "outputs": [],
   "source": [
    "thresh = (200, 255)\n",
    "\n",
    "red_bin = np.zeros_like(gray)\n",
    "red_bin[(R>thresh[0]) & (R<thresh[1])] =  1"
   ]
  },
  {
   "cell_type": "code",
   "execution_count": 9,
   "metadata": {},
   "outputs": [
    {
     "data": {
      "text/plain": [
       "<matplotlib.image.AxesImage at 0x18fd59c7a60>"
      ]
     },
     "execution_count": 9,
     "metadata": {},
     "output_type": "execute_result"
    }
   ],
   "source": [
    "fig, (ax1, ax2) = plt.subplots(1, 2, figsize=(20,10))\n",
    "\n",
    "ax1.set_title('Image')\n",
    "ax1.imshow(img, cmap='gray')\n",
    "\n",
    "ax2.set_title('Red Bin')\n",
    "ax2.imshow(red_bin, cmap='gray')"
   ]
  },
  {
   "cell_type": "code",
   "execution_count": 10,
   "metadata": {},
   "outputs": [],
   "source": [
    "hls = cv2.cvtColor(img, cv2.COLOR_RGB2HLS)\n",
    "\n",
    "H = hls[:,:,0]\n",
    "L = hls[:,:,1]\n",
    "S = hls[:,:,2]"
   ]
  },
  {
   "cell_type": "code",
   "execution_count": 11,
   "metadata": {},
   "outputs": [
    {
     "data": {
      "text/plain": [
       "<matplotlib.image.AxesImage at 0x18fdb291550>"
      ]
     },
     "execution_count": 11,
     "metadata": {},
     "output_type": "execute_result"
    }
   ],
   "source": [
    "fig, ((ax1, ax2), (ax3, ax4)) = plt.subplots(2, 2, figsize=(20,10))\n",
    "\n",
    "ax1.set_title('Image')\n",
    "ax1.imshow(img, cmap='gray')\n",
    "\n",
    "ax2.set_title('H')\n",
    "ax2.imshow(H, cmap='gray')\n",
    "\n",
    "ax3.set_title('L')\n",
    "ax3.imshow(L, cmap='gray')\n",
    "\n",
    "ax4.set_title('S')\n",
    "ax4.imshow(S, cmap='gray')"
   ]
  },
  {
   "cell_type": "code",
   "execution_count": 12,
   "metadata": {},
   "outputs": [],
   "source": [
    "thresh = (90, 255)\n",
    "\n",
    "s_bin = np.zeros_like(gray)\n",
    "s_bin[(S>thresh[0]) & (S<thresh[1])] =  1"
   ]
  },
  {
   "cell_type": "code",
   "execution_count": 13,
   "metadata": {},
   "outputs": [
    {
     "data": {
      "text/plain": [
       "<matplotlib.image.AxesImage at 0x18fdb5b3520>"
      ]
     },
     "execution_count": 13,
     "metadata": {},
     "output_type": "execute_result"
    }
   ],
   "source": [
    "fig, (ax1, ax2) = plt.subplots(1, 2, figsize=(20,10))\n",
    "\n",
    "ax1.set_title('Image')\n",
    "ax1.imshow(img, cmap='gray')\n",
    "\n",
    "ax2.set_title('S Bin')\n",
    "ax2.imshow(s_bin, cmap='gray')"
   ]
  },
  {
   "cell_type": "code",
   "execution_count": 14,
   "metadata": {},
   "outputs": [],
   "source": [
    "thresh = (15, 100)\n",
    "\n",
    "h_bin = np.zeros_like(gray)\n",
    "h_bin[(H>=thresh[0]) & (H<=thresh[1])] =  1"
   ]
  },
  {
   "cell_type": "code",
   "execution_count": 15,
   "metadata": {},
   "outputs": [
    {
     "data": {
      "text/plain": [
       "<matplotlib.image.AxesImage at 0x18fdc8a60a0>"
      ]
     },
     "execution_count": 15,
     "metadata": {},
     "output_type": "execute_result"
    }
   ],
   "source": [
    "fig, (ax1, ax2) = plt.subplots(1, 2, figsize=(20,10))\n",
    "\n",
    "ax1.set_title('Image')\n",
    "ax1.imshow(img, cmap='gray')\n",
    "\n",
    "ax2.set_title('H Bin')\n",
    "ax2.imshow(h_bin, cmap='gray')"
   ]
  },
  {
   "cell_type": "code",
   "execution_count": 29,
   "metadata": {},
   "outputs": [],
   "source": [
    "def rgb_to_hls(img, thresh=(0,255)):\n",
    "    hls = cv2.cvtColor(img, cv2.COLOR_RGB2HLS)\n",
    "    s = hls[:,:,2]\n",
    "    \n",
    "    s_bin = np.zeros_like(s)\n",
    "    s_bin[(S>thresh[0]) & (S<=thresh[1])] =  1\n",
    "    \n",
    "    return s_bin"
   ]
  },
  {
   "cell_type": "code",
   "execution_count": 30,
   "metadata": {},
   "outputs": [
    {
     "data": {
      "text/plain": [
       "<matplotlib.image.AxesImage at 0x18fdd29aeb0>"
      ]
     },
     "execution_count": 30,
     "metadata": {},
     "output_type": "execute_result"
    }
   ],
   "source": [
    "img = mpimg.imread('./CarND-Advanced-Lane-Lines/test_images/test6.jpg')\n",
    "\n",
    "out = rgb_to_hls(img, (90,255))\n",
    "\n",
    "fig, (ax1,ax2) = plt.subplots(1,2,figsize=(20,10))\n",
    "\n",
    "ax1.set_title('Image')\n",
    "ax1.imshow(img)\n",
    "\n",
    "ax2.set_title('Laned S Bin')\n",
    "ax2.imshow(out, cmap='gray')"
   ]
  },
  {
   "cell_type": "code",
   "execution_count": null,
   "metadata": {},
   "outputs": [],
   "source": []
  }
 ],
 "metadata": {
  "kernelspec": {
   "display_name": "Python 3",
   "language": "python",
   "name": "python3"
  },
  "language_info": {
   "codemirror_mode": {
    "name": "ipython",
    "version": 3
   },
   "file_extension": ".py",
   "mimetype": "text/x-python",
   "name": "python",
   "nbconvert_exporter": "python",
   "pygments_lexer": "ipython3",
   "version": "3.8.5"
  }
 },
 "nbformat": 4,
 "nbformat_minor": 4
}
